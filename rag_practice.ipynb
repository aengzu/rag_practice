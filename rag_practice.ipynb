{
 "cells": [
  {
   "cell_type": "code",
   "execution_count": 1,
   "id": "5bb961ce-59bb-428f-9ffe-fd590f5aeffc",
   "metadata": {},
   "outputs": [],
   "source": [
    "# 라이브러리 임포트\n",
    "import os\n",
    "import glob\n",
    "from dotenv import load_dotenv\n",
    "import gradio as gr\n",
    "from openai import OpenAI"
   ]
  },
  {
   "cell_type": "code",
   "execution_count": 2,
   "id": "449fcc1f-fa88-4d31-a550-f69e57969a05",
   "metadata": {},
   "outputs": [],
   "source": [
    "# 모델 정의\n",
    "MODEL = \"gpt-4o-mini\""
   ]
  },
  {
   "cell_type": "code",
   "execution_count": 3,
   "id": "9a606a7c-cd15-405e-8940-688590f0af30",
   "metadata": {},
   "outputs": [],
   "source": [
    "# .env 에 있던 키 불러오기\n",
    "\n",
    "load_dotenv()\n",
    "os.environ['OPENAI_API_KEY'] = os.getenv('OPENAI_API_KEY', 'your-key-if-not-using-env')\n",
    "openai = OpenAI()"
   ]
  },
  {
   "cell_type": "code",
   "execution_count": 7,
   "id": "790857f5-8726-45aa-8cf5-7a4337972cb5",
   "metadata": {},
   "outputs": [],
   "source": [
    "context = {}\n",
    "\n",
    "informations = glob.glob(\"knowledge-base/*\")\n",
    "\n",
    "for info in informations:\n",
    "    name = os.path.splitext(os.path.basename(info))[0]\n",
    "    doc = \"\"\n",
    "    with open(info, \"r\", encoding=\"utf-8\") as f:\n",
    "        doc = f.read()\n",
    "    context[name]=doc\n",
    "\n"
   ]
  },
  {
   "cell_type": "code",
   "execution_count": 19,
   "id": "4360e847-262e-4d1e-883a-e4929b484a78",
   "metadata": {},
   "outputs": [
    {
     "data": {
      "text/plain": [
       "dict_keys(['about_aengzu', 'jeonyeongju'])"
      ]
     },
     "execution_count": 19,
     "metadata": {},
     "output_type": "execute_result"
    }
   ],
   "source": [
    "context.keys()"
   ]
  },
  {
   "cell_type": "code",
   "execution_count": 20,
   "id": "ebb5ed7f-d5ed-4fd1-9ec5-4ec759557a84",
   "metadata": {},
   "outputs": [
    {
     "data": {
      "text/plain": [
       "'### aengzu 대해\\n- 전영주는 비계, 닭발, 유부를 싫어한다.\\n- 전영주는 떡볶이를 좋아한다.\\n- 전영주는 금요일이 공강 시간이다.\\n- 전영주는 사이키쿠스오의 재난에 나오는 사이키 쿠스오를 좋아한다.\\n- 사이키쿠스오의 재난에 나오는 사이키 쿠스오가 가장 좋아하는 것은 커피젤리이다.\\n- 전영주는 일본 여행을 가면 커피 젤리를 꼭 먹는다.\\n- 전영주는 밴드 음악을 좋아한다.\\n- 전영주의 MBTI 는 INTP 이다.\\n- 전영주는 현재 18학점을 수강중이다.\\n- 전영주는 복숭아 알레르기가 있다. 사실 이것은 자작나무 알레르기이다. 비슷한 계열의 사과, 자두, 복숭아, 무화과, 체리를 먹지 못한다.\\n- 전영주의 주량은 한 병 정도이다.\\n'"
      ]
     },
     "execution_count": 20,
     "metadata": {},
     "output_type": "execute_result"
    }
   ],
   "source": [
    "context['about_aengzu']"
   ]
  },
  {
   "cell_type": "code",
   "execution_count": 21,
   "id": "b873f8ed-a961-4208-8749-a75e91c9d31f",
   "metadata": {},
   "outputs": [],
   "source": [
    "system_message = \"당신은 '전영주'이라는 사람에 대해 정확한 질문에 답변하는 전문가입니다. 간결하고 정확한 답변을 제공하세요. 만약 답변을 모른다면, 모른다고 말하세요. 제공된 관련 정보가 없다면 아무것도 만들어내지 마세요.\""
   ]
  },
  {
   "cell_type": "code",
   "execution_count": 22,
   "id": "82f10926-b25f-4589-99a8-ff25d1d2bd25",
   "metadata": {},
   "outputs": [],
   "source": [
    "def get_relevant_context(message):\n",
    "    relevant_context = []\n",
    "    for context_title, context_details in context.items():\n",
    "        if context_title.lower() in message.lower():\n",
    "            relevant_context.append(context_details)\n",
    "    return relevant_context  "
   ]
  },
  {
   "cell_type": "code",
   "execution_count": 23,
   "id": "03d70ee5-f66e-4744-ba5a-9f77327da741",
   "metadata": {},
   "outputs": [
    {
     "data": {
      "text/plain": [
       "[]"
      ]
     },
     "execution_count": 23,
     "metadata": {},
     "output_type": "execute_result"
    }
   ],
   "source": [
    "get_relevant_context(\"전영주\")"
   ]
  },
  {
   "cell_type": "code",
   "execution_count": 24,
   "id": "0c603806-60de-4f04-b890-30129879bdd0",
   "metadata": {},
   "outputs": [
    {
     "data": {
      "text/plain": [
       "[]"
      ]
     },
     "execution_count": 24,
     "metadata": {},
     "output_type": "execute_result"
    }
   ],
   "source": [
    "get_relevant_context(\"누가 전영주야?\")"
   ]
  },
  {
   "cell_type": "code",
   "execution_count": 28,
   "id": "ed599aef-2139-46e5-a9cd-0368f37ba85c",
   "metadata": {},
   "outputs": [
    {
     "data": {
      "text/plain": [
       "['![IMG_2455.JPG](https://prod-files-secure.s3.us-west-2.amazonaws.com/cf37a59a-e335-4bdc-8853-2ced1b3a6e09/e37fb2a6-079e-4476-b585-e5b65b9f3bde/IMG_2455.jpg)\\n\\n## Contact & Channels\\n\\n---\\n\\n- **Email** | wjsdudwn01**@gmail.com**\\n- **Github** | ****https://github.com/aengzu\\n- **Blog** | ****https://velog.io/@aengzu/posts\\n\\n# 🤚🏻 App Developer\\n\\n---\\n\\n- 안녕하세요! **꾸준히 성장하는 예비 개발자** 전영주입니다.\\n- 배움을 좋아합니다. 지식을 확장하며 뿌듯함을 느낍니다.\\n    - 기술(주로 Android, AI, 프로젝트)과 관련된 Youtube 영상, 블로그 탐색을 좋아합니다!\\n- 공부한 내용과 경험을 통해 알게된 내용을 블로그에 기록하는 습관이 있습니다.\\n    \\n    [aengzu (도톨이) / 작성글 - velog](https://velog.io/@aengzu/posts)\\n    \\n\\n# 🛠  Stacks\\n\\n---\\n\\n- **형광펜** : 하나의 프로젝트를 완성할 수 있음\\n- **볼드** : 사용 경험 많음\\n- 회색 : 사용 경험 있음\\n\\n## App\\n\\n- **Flutter (dart)**\\n- **Kotlin**\\n- Java\\n\\n## Front-End\\n\\n- html, css\\n- javascript, typescript\\n- vue.js\\n\\n## Back-End\\n\\n- FastAPI, Flask (**Python**)\\n- Firebase, PostgreSQL, MySQL\\n\\n### ETC.\\n\\n- **Slack**, **Discord**\\n- **Notion**, Obsydian\\n- **Github**, Gitkraken\\n- **Figma**, Jira, uml\\n- **Colab**, Jupyternotebook\\n- C, C#, C++\\n- Streamlit\\n\\n# 💻  Projects\\n\\n---\\n\\n## 📁\\xa0NOTAI\\n\\nhttps://github.com/kakao-tech-campus-2nd-step3/Team29_Android\\n\\n- 24.09 - 24.11\\n\\n- [대학생들을 위한 스마트 노트테이킹 애플리케이션](https://www.notion.so/NOTAI-12eede9439f780009397da4c463f7da7?pvs=21)\\n    - **2024 카카오테크 캠퍼스 2기** STEP3 팀프로젝트\\n    - **담당 : 기획 리더 / Figma 디자인 / App Front** 구현\\n        - **세부 담당** : 멀티모듈 구조 세팅, PDF 뷰어 기능, 녹음 및 페이지 이동 이벤트 기록 기능, PDF 위에 주석 추가 및 수정 기능, AI 및 STT 를 위한 서버와 통신 구현\\n    - **기술** : AndroidStudio / Kotlin / Github / Slack\\n    - **배운점** : Clean Architecture(+MVVM), Github issue 세팅, Github PR 리뷰, Git 작업 단위 설정\\n    - **Challenge**\\n        - 주석과 페이지 이동 이벤트가 같은 `드래그` 이벤트를 통해 반응해야하기 때문에 이를 처리하는 과정에서 어려움을 겪었으나 주석의 드래그 이벤트 발동 시 부모 뷰(PDF 화면)의 이벤트를 제한하는 방식으로 해결\\n        - 첫 멀티모듈 적용 사례로 모듈의 의존성 관리에 어려움을 겪음 → 의존성 순환을 막기 위해 의존성 그래프를 그려서 모듈 간 의존성 관계를 고민함 / 크게 클린 아키텍처 구조를 따르며 domain, data, feature 모듈로 나누어 data 에 domain 을 주입하고, feature 에는 domain 을 주입 하고, 매퍼를 사용해 data-domain 모듈 간의 의존성 순환을 없앰\\n        - 빌드 에러가 발생했으나 원인을 찾을 수 없던 과정 속에서 이를 찾기 위해 Git bisect 방법을 사용하여 알아내고 블로그에 기록함 → https://velog.io/@aengzu/Git-Git-bisect-%EC%82%AC%EC%9A%A9%EA%B8%B0\\n\\n## 🧭\\xa0영주의 MAP\\n\\nhttps://github.com/aengzu/android-map-notification\\n\\n- 2024.06.24. ~ 2024.08.02.\\n\\n- [카카오맵 클론 코딩](https://www.notion.so/12eede9439f780dba451ecde82e3b052?pvs=21)\\n    - **2024 카카오테크 캠퍼스 2기** STEP2 클론 코딩 프로젝트\\n    - 카카오 지도 API 와 카카오 로컬 API를 활용하여 지도를 표시하고 장소를 검색할 수 있는 어플리케이션\\n    - **개인 프로젝트**\\n    - **기술** : AndroidStudio / Kotlin / Github / Slack\\n    - **배운점** : Clean Architecture(+MVVM), Github 이슈 세팅, Github PR 리뷰, 카카오 로컬 API 활용하여 검색 기능 구현(Retrofit) , 카카오 지도 API 활용하여 지도 표시, SharedPreference와 Room 사용법, Hilt 를 통한 의존성 주입, FCM 푸시 알림\\n    \\n\\n## 💬\\xa0PALINK\\n\\nhttps://github.com/aengzu/palink_v2\\n\\n- 24.03 - 24.10\\n\\n- [LLM을 활용한 대인관계 롤플레잉 시스템](https://www.notion.so/PALINK-12eede9439f78014847dcd527496357c?pvs=21)\\n    - CNU 졸업 팀프로젝트\\n    - **담당 : Figma 디자인 / App Front / 프롬프트 엔지니어링 / Open AI 호출 / Flutter WebApp 배포** 구현\\n    - **배포 링크** : https://d33ebkc9axnjkk.cloudfront.net/\\n    - **기술** : AndroidStudio / Flutter / Github / Notion / Langchain(패키지 사용)\\n    - **배운점** : MVVM 패턴, 프롬프트 엔지니어링, dart 에서 Langchain 사용하기, Flutter 프로젝트 WebApp 배포 방법\\n        - 어떻게 AI 호출 비용을 줄일 수 있을지\\n\\n## ✨\\xa0Miracle\\n\\nhttps://github.com/aengzu/HCI_03\\n\\n- 24.04 - 24.06\\n\\n- [일대일 공통 태스크 대결 서비스](https://www.notion.so/Miracle-b24e9a7af98249398fc93cfb423c95aa?pvs=21)\\n    - 2024 4-1 HCI 과목 03조 팀프로젝트\\n    - 1대1 공통 목표 대결 서비스\\n    - **담당** : Figma 디자인 (전체 테마, 메인화면), App Front 구현 (배틀 신청 및 수락 화면, 초기 구조 세팅), 서버 연결 코드\\n    - **기술** : AndroidStudio / Flutter / Figma\\n    - **배운점** : MVC 패턴, Commit 컨벤션, 외부 라이브러리 사용 방법\\n    \\n\\n## 🥐\\xa0DeliManJwo\\n\\nhttps://github.com/aengzu/Sogra\\n\\n- 24.05.25.- 24.05.26.\\n\\n- [대전광역시 빵 지도 빵 수집 서비스](https://www.notion.so/DeliManJwo-b40935c751eb4c22b62d9f84403471a1?pvs=21)\\n    - 2024 SOGRA 교내 해커톤 보안상 수상 (팀프로젝트)\\n    - 대전광역시 내 빵집 지도를 볼 수 있고 AR 을 통한 빵 수집 가능\\n    - **담당** : Figma 디자인, App Front 구현 (빵집 지도), 비밀번호 암호화\\n    - **기술** : AndroidStudio / Flutter / FastAPI / github / Figma\\n    - **배운점** : Flutter 에서 Google Map API 사용, bcrypt 해시 알고리즘 사용, 서버와 API 통신\\n    \\n\\n## 🎁\\xa0PTTO\\n\\nhttps://github.com/aengzu/PresentRecommendApp\\n\\n- 23.05 - 23.07\\n\\n- [맞춤형 선물 추천 서비스](https://www.notion.so/PTTO-faf25bea40b643228ac1f1994e902b35?pvs=21)\\n    - 학교 프로젝트로 제작한 맞춤형 선물 추천 서비스로 처음으로 진행해본 프로젝트\\n    - **담당** : Figma 디자인, 밸런스게임 웹 제작, 메인화면 제작\\n        - 앱 내부의 웹페이지 :  https://github.com/aengzu/balancegame_Web\\n    - **기술** : AndroidStudio / Java / html, css, js / github / Figma\\n    - **배운점** : Figma 사용법, Android Studio 사용법, Firebase 연동\\n    \\n\\n# 🎓  Education\\n\\n---\\n\\n## 충남대학교\\n\\n2021.03 ~ 2025.02.(예정)\\n\\n- 컴퓨터공학 전공\\n    - 수강 과목 : 컴퓨터프로그래밍, 선형대수, 객체지향설계, 컴퓨터구조, 시스템프로그래밍, 이산수학, 논리회로, 확률과  통계, 알고리즘, 자료구조, 데이터통신, 컴퓨터네트워크, 정보보호, 소프트웨어공학, 컴파일러개론, 프로그래밍언어개론, 인간-컴퓨터 상호작용, 기계학습 , 최신AI특강, AI소프트웨어, 컴퓨터그래픽스\\n    \\n\\n# 🏃🏻  Experience\\n\\n---\\n\\n### 카카오테크 캠퍼스 2기\\n\\n2024.04 ~ 2024.12 (STEP 3 진행중)\\n\\n- Android Part 참여\\n    - STEP 1 우수 과제 수행자 🏆\\n    - STEP 2 우수 수료자 🏆\\n    \\n\\n### **DSC 공유대학 AWS 기업체 연계 클라우드 해커톤 프로그램**\\n\\n2024.08.16. ~ 2024.08.17.\\n\\n- AWS 기업체 연계 클라우드 해커톤 참가\\n    - CloudFront, EC2 를 활용한 배포 교육\\n    \\n\\n### 하계 알고리즘 특강 (중급반)\\n\\n2024.08\\n\\n- 2024 하계 알고리즘 특강 수료\\n    - Simulation, Backtracking, DFS, BFS, DP\\n    \\n\\n### SOGRA 교내 해커톤\\n\\n2024.05.25. ~ 2024.05.26.\\n\\n- 보안상 🏆\\n    - 비밀번호 해시 , JWT 토큰 발행\\n    \\n\\n### 동계 AWS_CLOUD 특강\\n\\n2024.02.20. ~ 2024.02.23.\\n\\n- 동계 AWS CLOUD 특강 수료\\n    \\n    \\n\\n### SPARCS Service Hackathon 2024\\n\\n2024.02.14. ~ 2024.02.16.\\n\\n- 2024 SPARCS Service Hackathon 참가\\n    - 자취 온보딩 앱 프론트엔드 개발\\n    \\n\\n### RESAT 프론트엔드 개발 챌린지 7기\\n\\n2024.01.15. ~ 2024.01.26.\\n\\n- Html, Css, Js 미션 수행\\n    - 우수 예비 프론트엔드 개발자 🏆\\n    \\n\\n### 2023 1학기 DSC 융합동아리\\n\\n2023.04. ~ 2023.06.\\n\\n- 모빌리티 산업 관련 학습 동아리 참여\\n    \\n    \\n\\n### 컴퓨터융합학부 학생회\\n\\n2022.02. ~ 2023.02.\\n\\n- 2022 컴퓨터융합학부 학생회 Memory 홍보부원']"
      ]
     },
     "execution_count": 28,
     "metadata": {},
     "output_type": "execute_result"
    }
   ],
   "source": [
    "get_relevant_context(\"Who is jeonyeongju?\")"
   ]
  },
  {
   "cell_type": "code",
   "execution_count": 29,
   "id": "632fcf26-a91a-4bf2-9ad9-b6cce4e3009b",
   "metadata": {},
   "outputs": [],
   "source": [
    "def add_context(message):\n",
    "    # 사용자의 메시지와 관련된 컨텍스트를 가져옴\n",
    "    relevant_context = get_relevant_context(message)\n",
    "    \n",
    "    # 관련 컨텍스트가 존재하는 경우\n",
    "    if relevant_context:\n",
    "        # 메시지에 추가 문맥 정보 소개 문구를 추가\n",
    "        message += \"\\n\\n다음 추가 문맥은 이 질문에 답변하는 데 도움이 될 수 있습니다:\\n\\n\"\n",
    "        \n",
    "        # 관련 컨텍스트 내용을 메시지에 순차적으로 추가\n",
    "        for relevant in relevant_context:\n",
    "            message += relevant + \"\\n\\n\"\n",
    "    \n",
    "    # 컨텍스트가 추가된 메시지를 반환\n",
    "    return message"
   ]
  },
  {
   "cell_type": "code",
   "execution_count": 31,
   "id": "64cb6a95-7825-4b35-b27e-29d984edf5bb",
   "metadata": {},
   "outputs": [
    {
     "name": "stdout",
     "output_type": "stream",
     "text": [
      "who is jeonyeongju?\n",
      "\n",
      "다음 추가 문맥은 이 질문에 답변하는 데 도움이 될 수 있습니다:\n",
      "\n",
      "![IMG_2455.JPG](https://prod-files-secure.s3.us-west-2.amazonaws.com/cf37a59a-e335-4bdc-8853-2ced1b3a6e09/e37fb2a6-079e-4476-b585-e5b65b9f3bde/IMG_2455.jpg)\n",
      "\n",
      "## Contact & Channels\n",
      "\n",
      "---\n",
      "\n",
      "- **Email** | wjsdudwn01**@gmail.com**\n",
      "- **Github** | ****https://github.com/aengzu\n",
      "- **Blog** | ****https://velog.io/@aengzu/posts\n",
      "\n",
      "# 🤚🏻 App Developer\n",
      "\n",
      "---\n",
      "\n",
      "- 안녕하세요! **꾸준히 성장하는 예비 개발자** 전영주입니다.\n",
      "- 배움을 좋아합니다. 지식을 확장하며 뿌듯함을 느낍니다.\n",
      "    - 기술(주로 Android, AI, 프로젝트)과 관련된 Youtube 영상, 블로그 탐색을 좋아합니다!\n",
      "- 공부한 내용과 경험을 통해 알게된 내용을 블로그에 기록하는 습관이 있습니다.\n",
      "    \n",
      "    [aengzu (도톨이) / 작성글 - velog](https://velog.io/@aengzu/posts)\n",
      "    \n",
      "\n",
      "# 🛠  Stacks\n",
      "\n",
      "---\n",
      "\n",
      "- **형광펜** : 하나의 프로젝트를 완성할 수 있음\n",
      "- **볼드** : 사용 경험 많음\n",
      "- 회색 : 사용 경험 있음\n",
      "\n",
      "## App\n",
      "\n",
      "- **Flutter (dart)**\n",
      "- **Kotlin**\n",
      "- Java\n",
      "\n",
      "## Front-End\n",
      "\n",
      "- html, css\n",
      "- javascript, typescript\n",
      "- vue.js\n",
      "\n",
      "## Back-End\n",
      "\n",
      "- FastAPI, Flask (**Python**)\n",
      "- Firebase, PostgreSQL, MySQL\n",
      "\n",
      "### ETC.\n",
      "\n",
      "- **Slack**, **Discord**\n",
      "- **Notion**, Obsydian\n",
      "- **Github**, Gitkraken\n",
      "- **Figma**, Jira, uml\n",
      "- **Colab**, Jupyternotebook\n",
      "- C, C#, C++\n",
      "- Streamlit\n",
      "\n",
      "# 💻  Projects\n",
      "\n",
      "---\n",
      "\n",
      "## 📁 NOTAI\n",
      "\n",
      "https://github.com/kakao-tech-campus-2nd-step3/Team29_Android\n",
      "\n",
      "- 24.09 - 24.11\n",
      "\n",
      "- [대학생들을 위한 스마트 노트테이킹 애플리케이션](https://www.notion.so/NOTAI-12eede9439f780009397da4c463f7da7?pvs=21)\n",
      "    - **2024 카카오테크 캠퍼스 2기** STEP3 팀프로젝트\n",
      "    - **담당 : 기획 리더 / Figma 디자인 / App Front** 구현\n",
      "        - **세부 담당** : 멀티모듈 구조 세팅, PDF 뷰어 기능, 녹음 및 페이지 이동 이벤트 기록 기능, PDF 위에 주석 추가 및 수정 기능, AI 및 STT 를 위한 서버와 통신 구현\n",
      "    - **기술** : AndroidStudio / Kotlin / Github / Slack\n",
      "    - **배운점** : Clean Architecture(+MVVM), Github issue 세팅, Github PR 리뷰, Git 작업 단위 설정\n",
      "    - **Challenge**\n",
      "        - 주석과 페이지 이동 이벤트가 같은 `드래그` 이벤트를 통해 반응해야하기 때문에 이를 처리하는 과정에서 어려움을 겪었으나 주석의 드래그 이벤트 발동 시 부모 뷰(PDF 화면)의 이벤트를 제한하는 방식으로 해결\n",
      "        - 첫 멀티모듈 적용 사례로 모듈의 의존성 관리에 어려움을 겪음 → 의존성 순환을 막기 위해 의존성 그래프를 그려서 모듈 간 의존성 관계를 고민함 / 크게 클린 아키텍처 구조를 따르며 domain, data, feature 모듈로 나누어 data 에 domain 을 주입하고, feature 에는 domain 을 주입 하고, 매퍼를 사용해 data-domain 모듈 간의 의존성 순환을 없앰\n",
      "        - 빌드 에러가 발생했으나 원인을 찾을 수 없던 과정 속에서 이를 찾기 위해 Git bisect 방법을 사용하여 알아내고 블로그에 기록함 → https://velog.io/@aengzu/Git-Git-bisect-%EC%82%AC%EC%9A%A9%EA%B8%B0\n",
      "\n",
      "## 🧭 영주의 MAP\n",
      "\n",
      "https://github.com/aengzu/android-map-notification\n",
      "\n",
      "- 2024.06.24. ~ 2024.08.02.\n",
      "\n",
      "- [카카오맵 클론 코딩](https://www.notion.so/12eede9439f780dba451ecde82e3b052?pvs=21)\n",
      "    - **2024 카카오테크 캠퍼스 2기** STEP2 클론 코딩 프로젝트\n",
      "    - 카카오 지도 API 와 카카오 로컬 API를 활용하여 지도를 표시하고 장소를 검색할 수 있는 어플리케이션\n",
      "    - **개인 프로젝트**\n",
      "    - **기술** : AndroidStudio / Kotlin / Github / Slack\n",
      "    - **배운점** : Clean Architecture(+MVVM), Github 이슈 세팅, Github PR 리뷰, 카카오 로컬 API 활용하여 검색 기능 구현(Retrofit) , 카카오 지도 API 활용하여 지도 표시, SharedPreference와 Room 사용법, Hilt 를 통한 의존성 주입, FCM 푸시 알림\n",
      "    \n",
      "\n",
      "## 💬 PALINK\n",
      "\n",
      "https://github.com/aengzu/palink_v2\n",
      "\n",
      "- 24.03 - 24.10\n",
      "\n",
      "- [LLM을 활용한 대인관계 롤플레잉 시스템](https://www.notion.so/PALINK-12eede9439f78014847dcd527496357c?pvs=21)\n",
      "    - CNU 졸업 팀프로젝트\n",
      "    - **담당 : Figma 디자인 / App Front / 프롬프트 엔지니어링 / Open AI 호출 / Flutter WebApp 배포** 구현\n",
      "    - **배포 링크** : https://d33ebkc9axnjkk.cloudfront.net/\n",
      "    - **기술** : AndroidStudio / Flutter / Github / Notion / Langchain(패키지 사용)\n",
      "    - **배운점** : MVVM 패턴, 프롬프트 엔지니어링, dart 에서 Langchain 사용하기, Flutter 프로젝트 WebApp 배포 방법\n",
      "        - 어떻게 AI 호출 비용을 줄일 수 있을지\n",
      "\n",
      "## ✨ Miracle\n",
      "\n",
      "https://github.com/aengzu/HCI_03\n",
      "\n",
      "- 24.04 - 24.06\n",
      "\n",
      "- [일대일 공통 태스크 대결 서비스](https://www.notion.so/Miracle-b24e9a7af98249398fc93cfb423c95aa?pvs=21)\n",
      "    - 2024 4-1 HCI 과목 03조 팀프로젝트\n",
      "    - 1대1 공통 목표 대결 서비스\n",
      "    - **담당** : Figma 디자인 (전체 테마, 메인화면), App Front 구현 (배틀 신청 및 수락 화면, 초기 구조 세팅), 서버 연결 코드\n",
      "    - **기술** : AndroidStudio / Flutter / Figma\n",
      "    - **배운점** : MVC 패턴, Commit 컨벤션, 외부 라이브러리 사용 방법\n",
      "    \n",
      "\n",
      "## 🥐 DeliManJwo\n",
      "\n",
      "https://github.com/aengzu/Sogra\n",
      "\n",
      "- 24.05.25.- 24.05.26.\n",
      "\n",
      "- [대전광역시 빵 지도 빵 수집 서비스](https://www.notion.so/DeliManJwo-b40935c751eb4c22b62d9f84403471a1?pvs=21)\n",
      "    - 2024 SOGRA 교내 해커톤 보안상 수상 (팀프로젝트)\n",
      "    - 대전광역시 내 빵집 지도를 볼 수 있고 AR 을 통한 빵 수집 가능\n",
      "    - **담당** : Figma 디자인, App Front 구현 (빵집 지도), 비밀번호 암호화\n",
      "    - **기술** : AndroidStudio / Flutter / FastAPI / github / Figma\n",
      "    - **배운점** : Flutter 에서 Google Map API 사용, bcrypt 해시 알고리즘 사용, 서버와 API 통신\n",
      "    \n",
      "\n",
      "## 🎁 PTTO\n",
      "\n",
      "https://github.com/aengzu/PresentRecommendApp\n",
      "\n",
      "- 23.05 - 23.07\n",
      "\n",
      "- [맞춤형 선물 추천 서비스](https://www.notion.so/PTTO-faf25bea40b643228ac1f1994e902b35?pvs=21)\n",
      "    - 학교 프로젝트로 제작한 맞춤형 선물 추천 서비스로 처음으로 진행해본 프로젝트\n",
      "    - **담당** : Figma 디자인, 밸런스게임 웹 제작, 메인화면 제작\n",
      "        - 앱 내부의 웹페이지 :  https://github.com/aengzu/balancegame_Web\n",
      "    - **기술** : AndroidStudio / Java / html, css, js / github / Figma\n",
      "    - **배운점** : Figma 사용법, Android Studio 사용법, Firebase 연동\n",
      "    \n",
      "\n",
      "# 🎓  Education\n",
      "\n",
      "---\n",
      "\n",
      "## 충남대학교\n",
      "\n",
      "2021.03 ~ 2025.02.(예정)\n",
      "\n",
      "- 컴퓨터공학 전공\n",
      "    - 수강 과목 : 컴퓨터프로그래밍, 선형대수, 객체지향설계, 컴퓨터구조, 시스템프로그래밍, 이산수학, 논리회로, 확률과  통계, 알고리즘, 자료구조, 데이터통신, 컴퓨터네트워크, 정보보호, 소프트웨어공학, 컴파일러개론, 프로그래밍언어개론, 인간-컴퓨터 상호작용, 기계학습 , 최신AI특강, AI소프트웨어, 컴퓨터그래픽스\n",
      "    \n",
      "\n",
      "# 🏃🏻  Experience\n",
      "\n",
      "---\n",
      "\n",
      "### 카카오테크 캠퍼스 2기\n",
      "\n",
      "2024.04 ~ 2024.12 (STEP 3 진행중)\n",
      "\n",
      "- Android Part 참여\n",
      "    - STEP 1 우수 과제 수행자 🏆\n",
      "    - STEP 2 우수 수료자 🏆\n",
      "    \n",
      "\n",
      "### **DSC 공유대학 AWS 기업체 연계 클라우드 해커톤 프로그램**\n",
      "\n",
      "2024.08.16. ~ 2024.08.17.\n",
      "\n",
      "- AWS 기업체 연계 클라우드 해커톤 참가\n",
      "    - CloudFront, EC2 를 활용한 배포 교육\n",
      "    \n",
      "\n",
      "### 하계 알고리즘 특강 (중급반)\n",
      "\n",
      "2024.08\n",
      "\n",
      "- 2024 하계 알고리즘 특강 수료\n",
      "    - Simulation, Backtracking, DFS, BFS, DP\n",
      "    \n",
      "\n",
      "### SOGRA 교내 해커톤\n",
      "\n",
      "2024.05.25. ~ 2024.05.26.\n",
      "\n",
      "- 보안상 🏆\n",
      "    - 비밀번호 해시 , JWT 토큰 발행\n",
      "    \n",
      "\n",
      "### 동계 AWS_CLOUD 특강\n",
      "\n",
      "2024.02.20. ~ 2024.02.23.\n",
      "\n",
      "- 동계 AWS CLOUD 특강 수료\n",
      "    \n",
      "    \n",
      "\n",
      "### SPARCS Service Hackathon 2024\n",
      "\n",
      "2024.02.14. ~ 2024.02.16.\n",
      "\n",
      "- 2024 SPARCS Service Hackathon 참가\n",
      "    - 자취 온보딩 앱 프론트엔드 개발\n",
      "    \n",
      "\n",
      "### RESAT 프론트엔드 개발 챌린지 7기\n",
      "\n",
      "2024.01.15. ~ 2024.01.26.\n",
      "\n",
      "- Html, Css, Js 미션 수행\n",
      "    - 우수 예비 프론트엔드 개발자 🏆\n",
      "    \n",
      "\n",
      "### 2023 1학기 DSC 융합동아리\n",
      "\n",
      "2023.04. ~ 2023.06.\n",
      "\n",
      "- 모빌리티 산업 관련 학습 동아리 참여\n",
      "    \n",
      "    \n",
      "\n",
      "### 컴퓨터융합학부 학생회\n",
      "\n",
      "2022.02. ~ 2023.02.\n",
      "\n",
      "- 2022 컴퓨터융합학부 학생회 Memory 홍보부원\n",
      "\n",
      "\n"
     ]
    }
   ],
   "source": [
    "print(add_context(\"who is jeonyeongju?\"))"
   ]
  },
  {
   "cell_type": "code",
   "execution_count": 33,
   "id": "49e32234-4866-46bd-9c48-21f8f1ba5f5d",
   "metadata": {},
   "outputs": [],
   "source": [
    "def chat(message, history):\n",
    "    messages = [{\"role\": \"system\", \"content\": system_message}] + history\n",
    "    message = add_context(message)\n",
    "    messages.append({\"role\": \"user\", \"content\": message})\n",
    "\n",
    "    stream = openai.chat.completions.create(model=MODEL, messages=messages, stream=True)\n",
    "\n",
    "    response = \"\"\n",
    "    for chunk in stream:\n",
    "        response += chunk.choices[0].delta.content or ''\n",
    "        yield response"
   ]
  },
  {
   "cell_type": "code",
   "execution_count": 34,
   "id": "c58960e8-4c70-46e9-897d-adffb1219776",
   "metadata": {},
   "outputs": [
    {
     "name": "stdout",
     "output_type": "stream",
     "text": [
      "* Running on local URL:  http://127.0.0.1:7860\n",
      "\n",
      "To create a public link, set `share=True` in `launch()`.\n"
     ]
    },
    {
     "data": {
      "text/html": [
       "<div><iframe src=\"http://127.0.0.1:7860/\" width=\"100%\" height=\"500\" allow=\"autoplay; camera; microphone; clipboard-read; clipboard-write;\" frameborder=\"0\" allowfullscreen></iframe></div>"
      ],
      "text/plain": [
       "<IPython.core.display.HTML object>"
      ]
     },
     "metadata": {},
     "output_type": "display_data"
    }
   ],
   "source": [
    "view = gr.ChatInterface(chat, type=\"messages\").launch()"
   ]
  },
  {
   "cell_type": "code",
   "execution_count": null,
   "id": "d5f91fb4-b8f7-4052-97c6-505efc4ee4f7",
   "metadata": {},
   "outputs": [],
   "source": []
  }
 ],
 "metadata": {
  "kernelspec": {
   "display_name": "Python 3 (ipykernel)",
   "language": "python",
   "name": "python3"
  },
  "language_info": {
   "codemirror_mode": {
    "name": "ipython",
    "version": 3
   },
   "file_extension": ".py",
   "mimetype": "text/x-python",
   "name": "python",
   "nbconvert_exporter": "python",
   "pygments_lexer": "ipython3",
   "version": "3.11.10"
  }
 },
 "nbformat": 4,
 "nbformat_minor": 5
}
